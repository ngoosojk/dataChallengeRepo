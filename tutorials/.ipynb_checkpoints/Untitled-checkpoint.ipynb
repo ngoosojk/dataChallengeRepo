{
 "cells": [
  {
   "cell_type": "code",
   "execution_count": 12,
   "id": "09b354ff-d0c4-4b88-93f5-4f7270089afc",
   "metadata": {},
   "outputs": [],
   "source": [
    "%store -r sources_training\n",
    "%store -r sources_full\n"
   ]
  },
  {
   "cell_type": "code",
   "execution_count": 13,
   "id": "2a5d9b21-7b1a-4f79-b21b-c56039a2a543",
   "metadata": {},
   "outputs": [
    {
     "name": "stdout",
     "output_type": "stream",
     "text": [
      "[359.99974563 359.99941314 359.99974571 ... 359.73135675 359.73158051\n",
      " 359.73163159]\n",
      "[6.69745358e-02 6.69207402e-02 6.56369109e-02 ... 3.59664025e+02\n",
      " 3.59664421e+02 3.59663792e+02]\n"
     ]
    }
   ],
   "source": [
    "import numpy as np\n",
    "print(sources_training[1400]['RA'].values)\n",
    "print(sources_full[1400]['RA'].values)"
   ]
  },
  {
   "cell_type": "code",
   "execution_count": null,
   "id": "ff144c23-0c7f-4943-9cce-ffe6aba97652",
   "metadata": {
    "tags": []
   },
   "outputs": [],
   "source": [
    "matshes = [] # ind from the sources_training\n",
    "\n",
    "for tr in  range (len(sources_training[1400]['RA'])):\n",
    "    RA_tr = sources_training[1400]['RA'].values[tr]\n",
    "    DEC_tr = sources_training[1400]['DEC'].values[tr]\n",
    "    Total_flux_tr = sources_training[1400]['Total_flux'].values[tr]\n",
    "    Peak_flux_tr = sources_training[1400]['Peak_flux'].values[tr]\n",
    "    \n",
    "    tr_arr = [RA_tr, DEC_tr, Total_flux_tr, Peak_flux_tr]\n",
    "    # print(tr_arr)\n",
    "    for full in range (len(sources_full[1400]['RA'])):\n",
    "        \n",
    "        RA_sr = sources_full[1400]['RA'].values[full]\n",
    "        DEC_sr = sources_full[1400]['DEC'].values[full]\n",
    "        Total_flux_sr = sources_full[1400]['Total_flux'].values[full]\n",
    "        Peak_flux_sr = sources_full[1400]['Peak_flux'].values[full]\n",
    "\n",
    "        sr_arr = [RA_sr, DEC_sr, Total_flux_sr, Peak_flux_sr]\n",
    "        \n",
    "        # print(sr_arr)\n",
    "        if np.allclose(tr_arr, sr_arr):\n",
    "            # print(True)\n",
    "            # print(tr_arr, sr_arr)\n",
    "            # print()\n",
    "            matshes.append(tr)\n",
    "            break"
   ]
  },
  {
   "cell_type": "code",
   "execution_count": null,
   "id": "59080742-5dc5-4d25-8995-bc9c8e2cef9d",
   "metadata": {},
   "outputs": [],
   "source": [
    "print(len(matshes))"
   ]
  },
  {
   "cell_type": "code",
   "execution_count": null,
   "id": "18833e82-cc8a-4b4f-ac64-de090670723c",
   "metadata": {},
   "outputs": [],
   "source": []
  }
 ],
 "metadata": {
  "kernelspec": {
   "display_name": "dc1_ker2",
   "language": "python",
   "name": "dc1_ker2"
  },
  "language_info": {
   "codemirror_mode": {
    "name": "ipython",
    "version": 3
   },
   "file_extension": ".py",
   "mimetype": "text/x-python",
   "name": "python",
   "nbconvert_exporter": "python",
   "pygments_lexer": "ipython3",
   "version": "3.8.10"
  }
 },
 "nbformat": 4,
 "nbformat_minor": 5
}
