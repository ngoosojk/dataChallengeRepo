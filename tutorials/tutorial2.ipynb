{
 "cells": [
  {
   "cell_type": "markdown",
   "id": "049ae877-9f02-4272-b9bc-0d2ce1804770",
   "metadata": {},
   "source": [
    "# Tutorial 2: Source Classification\n",
    "https://astronomers.skatelescope.org/ska-science-data-challenge-1/"
   ]
  },
  {
   "cell_type": "markdown",
   "id": "bd8b15da-5a20-4900-92b5-cda77853b31c",
   "metadata": {},
   "source": [
    "The last tutorial gave us two different data frames, where one will be used to train the machine learning model, and the other to test the trained model. This notebook will go through the following:\n",
    "\n",
    "    1- Data exploration\n",
    "    2- Data pre_processing\n",
    "    3- Data Visualization\n",
    "    4- Training\n",
    "    5- Testing"
   ]
  },
  {
   "cell_type": "markdown",
   "id": "0dcdae23-9c0e-4b97-9eac-d09ce661950a",
   "metadata": {},
   "source": [
    "---"
   ]
  },
  {
   "cell_type": "markdown",
   "id": "19c3fc23-f119-40af-81f2-d82d4c71d33f",
   "metadata": {},
   "source": [
    "import the dataframes"
   ]
  },
  {
   "cell_type": "code",
   "execution_count": 1,
   "id": "516428d1-9faa-40bc-864d-f4efed81cf3c",
   "metadata": {},
   "outputs": [],
   "source": [
    "%store -r sources_training\n",
    "%store -r sources_full"
   ]
  },
  {
   "cell_type": "markdown",
   "id": "d91cbdcb-6b85-4bb4-abbf-19241a4df32c",
   "metadata": {},
   "source": [
    "#### Exploration"
   ]
  },
  {
   "cell_type": "code",
   "execution_count": 17,
   "id": "44b9830f-6f13-4c68-acae-d6ab0268346d",
   "metadata": {},
   "outputs": [
    {
     "name": "stdout",
     "output_type": "stream",
     "text": [
      "   Source_id  Isl_id          RA      E_RA        DEC     E_DEC    Total_flux  \\\n",
      "0          0       0  359.999746  0.000014 -29.856456  0.000011  9.947102e-07   \n",
      "1          1       1  359.999413  0.000017 -29.828395  0.000009  4.765558e-06   \n",
      "2          2       2  359.999746  0.000005 -29.794905  0.000009  2.980899e-06   \n",
      "\n",
      "   E_Total_flux     Peak_flux   E_Peak_flux  ...  DC_PA_img_plane  \\\n",
      "0  1.908813e-07  6.020551e-07  7.738053e-08  ...        64.362563   \n",
      "1  4.187382e-07  9.121587e-07  6.799415e-08  ...       104.110879   \n",
      "2  2.660662e-07  1.288173e-06  8.365145e-08  ...        10.713707   \n",
      "\n",
      "   E_DC_PA_img_plane  Isl_Total_flux  E_Isl_Total_flux       Isl_rms  \\\n",
      "0          25.682843    5.253248e-07      8.197129e-08  7.220221e-08   \n",
      "1           8.138976    3.112229e-06      1.788294e-07  7.380012e-08   \n",
      "2           8.554466    1.931456e-06      1.303469e-07  7.901944e-08   \n",
      "\n",
      "       Isl_mean  Resid_Isl_rms  Resid_Isl_mean  S_Code  n_gaussians  \n",
      "0 -3.125654e-08   1.380381e-08   -3.114713e-08       S            1  \n",
      "1 -2.670467e-08   9.398234e-08   -4.783774e-08       S            1  \n",
      "2 -2.435674e-08   1.658425e-08   -2.374887e-08       S            1  \n",
      "\n",
      "[3 rows x 46 columns]\n",
      "Index(['Source_id', 'Isl_id', 'RA', 'E_RA', 'DEC', 'E_DEC', 'Total_flux',\n",
      "       'E_Total_flux', 'Peak_flux', 'E_Peak_flux', 'RA_max', 'E_RA_max',\n",
      "       'DEC_max', 'E_DEC_max', 'Maj', 'E_Maj', 'Min', 'E_Min', 'PA', 'E_PA',\n",
      "       'Maj_img_plane', 'E_Maj_img_plane', 'Min_img_plane', 'E_Min_img_plane',\n",
      "       'PA_img_plane', 'E_PA_img_plane', 'DC_Maj', 'E_DC_Maj', 'DC_Min',\n",
      "       'E_DC_Min', 'DC_PA', 'E_DC_PA', 'DC_Maj_img_plane',\n",
      "       'E_DC_Maj_img_plane', 'DC_Min_img_plane', 'E_DC_Min_img_plane',\n",
      "       'DC_PA_img_plane', 'E_DC_PA_img_plane', 'Isl_Total_flux',\n",
      "       'E_Isl_Total_flux', 'Isl_rms', 'Isl_mean', 'Resid_Isl_rms',\n",
      "       'Resid_Isl_mean', 'S_Code', 'n_gaussians'],\n",
      "      dtype='object')\n",
      "(6718, 46)\n"
     ]
    }
   ],
   "source": [
    "print(sources_training[1400].head(3))\n",
    "print(sources_training[1400].columns)\n",
    "print(sources_training[1400].shape)"
   ]
  },
  {
   "cell_type": "markdown",
   "id": "7faafe2c-570a-4a4b-9797-50b42b364b07",
   "metadata": {},
   "source": [
    "The data frame above in its current state is not suited to be used for ML, for the following reasons: \n",
    "   * There are columns that need to be excluded, like Source_ID,...\n",
    "   * Perform corss matching aginst the truth cataluge and get the matched output\n",
    "   * Include the matched output(ground truth) to perform supervised learning "
   ]
  },
  {
   "cell_type": "markdown",
   "id": "dd11ea9b-eb77-41ac-8916-d849d5ac738a",
   "metadata": {},
   "source": [
    "---"
   ]
  },
  {
   "cell_type": "markdown",
   "id": "10c9d59c-d074-4ec7-8e68-398b69c676bb",
   "metadata": {},
   "source": [
    "#### Data pre-processing"
   ]
  },
  {
   "cell_type": "code",
   "execution_count": 3,
   "id": "126f956a-08d4-48fd-bde1-753459e85aa1",
   "metadata": {},
   "outputs": [],
   "source": [
    "from source.utils.bdsf_utils import  load_truth_df\n",
    "from source.path import train_truth_path\n",
    "from source.utils.columns import SRL_CAT_COLS, SRL_COLS_TO_DROP, SRL_NUM_COLS\n",
    "from source.utils.classification import SKLClassification"
   ]
  },
  {
   "cell_type": "code",
   "execution_count": 11,
   "id": "eb2fb7e4-2435-4194-9af7-01336276d0d3",
   "metadata": {},
   "outputs": [
    {
     "name": "stderr",
     "output_type": "stream",
     "text": [
      "2022-06-27 12:14:51,152 [MainThread  ][INFO ] SKAO Science Data Challenge Scoring Pipeline\n",
      "2022-06-27 12:14:51,154 [MainThread  ][INFO ] Scoring pipeline started\n",
      "2022-06-27 12:14:51,230 [MainThread  ][INFO ] Catalogue preparation complete. Elapsed time: 0.08s\n",
      "2022-06-27 12:14:51,499 [MainThread  ][INFO ] [Sdc1XMatch.execute] complete in 0.27s\n",
      "2022-06-27 12:14:51,501 [MainThread  ][INFO ] Crossmatch runs complete. Elapsed time: 0.35s\n",
      "2022-06-27 12:14:51,533 [MainThread  ][INFO ] Sieving complete. Elapsed time: 0.38s\n",
      "2022-06-27 12:14:51,577 [MainThread  ][INFO ] Scoring pipeline complete. Elapsed time: 0.42s\n",
      "2022-06-27 12:14:51,578 [MainThread  ][INFO ] Final score: 4769.72\n"
     ]
    }
   ],
   "source": [
    "model_pre = SKLClassification()\n",
    "train_truth_cat_df = load_truth_df(train_truth_path(1400), skiprows=18) # the tuth cataluge for the training data\n",
    "\n",
    "\"\"\"\n",
    "Args:\n",
    "    srl_df (:obj:`pandas.DataFrame`): Source list.\n",
    "    truth_cat_df (:obj:`pandas.DataFrame`): Truth catalogue.\n",
    "    regressand_col: (`str`): Regressand column name (output).\n",
    "    freq: (`int`): Frequency band (MHz).\n",
    "Returns:\n",
    "    srl_df (`str`): Crossmatched source list DataFrame used for training.\n",
    "\"\"\"\n",
    "train_df = model_pre.pre_process(sources_training[1400], train_truth_cat_df, regressand_col=\"class_t\", freq=1400)"
   ]
  },
  {
   "cell_type": "markdown",
   "id": "94c959d1-b1d4-4c37-beb6-7a6dcbf210f3",
   "metadata": {},
   "source": [
    "---"
   ]
  },
  {
   "cell_type": "markdown",
   "id": "a930af0c-ea8e-4072-9b4e-1c6fb3067b22",
   "metadata": {},
   "source": [
    "Data Visualization "
   ]
  },
  {
   "cell_type": "code",
   "execution_count": 13,
   "id": "0e5f5976-dd38-4adb-a806-3acf0c52042a",
   "metadata": {},
   "outputs": [
    {
     "data": {
      "text/html": [
       "<div>\n",
       "<style scoped>\n",
       "    .dataframe tbody tr th:only-of-type {\n",
       "        vertical-align: middle;\n",
       "    }\n",
       "\n",
       "    .dataframe tbody tr th {\n",
       "        vertical-align: top;\n",
       "    }\n",
       "\n",
       "    .dataframe thead th {\n",
       "        text-align: right;\n",
       "    }\n",
       "</style>\n",
       "<table border=\"1\" class=\"dataframe\">\n",
       "  <thead>\n",
       "    <tr style=\"text-align: right;\">\n",
       "      <th></th>\n",
       "      <th>Total_flux</th>\n",
       "      <th>E_Total_flux</th>\n",
       "      <th>Peak_flux</th>\n",
       "      <th>E_Peak_flux</th>\n",
       "      <th>Maj</th>\n",
       "      <th>E_Maj</th>\n",
       "      <th>Min</th>\n",
       "      <th>E_Min</th>\n",
       "      <th>Maj_img_plane</th>\n",
       "      <th>E_Maj_img_plane</th>\n",
       "      <th>...</th>\n",
       "      <th>E_DC_PA_img_plane</th>\n",
       "      <th>Isl_Total_flux</th>\n",
       "      <th>E_Isl_Total_flux</th>\n",
       "      <th>Isl_rms</th>\n",
       "      <th>Isl_mean</th>\n",
       "      <th>Resid_Isl_rms</th>\n",
       "      <th>Resid_Isl_mean</th>\n",
       "      <th>S_Code</th>\n",
       "      <th>n_gaussians</th>\n",
       "      <th>class_t</th>\n",
       "    </tr>\n",
       "    <tr>\n",
       "      <th>Source_id</th>\n",
       "      <th></th>\n",
       "      <th></th>\n",
       "      <th></th>\n",
       "      <th></th>\n",
       "      <th></th>\n",
       "      <th></th>\n",
       "      <th></th>\n",
       "      <th></th>\n",
       "      <th></th>\n",
       "      <th></th>\n",
       "      <th></th>\n",
       "      <th></th>\n",
       "      <th></th>\n",
       "      <th></th>\n",
       "      <th></th>\n",
       "      <th></th>\n",
       "      <th></th>\n",
       "      <th></th>\n",
       "      <th></th>\n",
       "      <th></th>\n",
       "      <th></th>\n",
       "    </tr>\n",
       "  </thead>\n",
       "  <tbody>\n",
       "    <tr>\n",
       "      <th>0</th>\n",
       "      <td>9.947102e-07</td>\n",
       "      <td>1.908813e-07</td>\n",
       "      <td>6.020551e-07</td>\n",
       "      <td>7.738053e-08</td>\n",
       "      <td>0.000241</td>\n",
       "      <td>0.000034</td>\n",
       "      <td>0.000191</td>\n",
       "      <td>2.245871e-05</td>\n",
       "      <td>0.000241</td>\n",
       "      <td>0.000034</td>\n",
       "      <td>...</td>\n",
       "      <td>25.682843</td>\n",
       "      <td>5.253248e-07</td>\n",
       "      <td>8.197129e-08</td>\n",
       "      <td>7.220221e-08</td>\n",
       "      <td>-3.125654e-08</td>\n",
       "      <td>1.380381e-08</td>\n",
       "      <td>-3.114713e-08</td>\n",
       "      <td>2</td>\n",
       "      <td>1.0</td>\n",
       "      <td>3.0</td>\n",
       "    </tr>\n",
       "    <tr>\n",
       "      <th>2</th>\n",
       "      <td>2.980899e-06</td>\n",
       "      <td>2.660662e-07</td>\n",
       "      <td>1.288173e-06</td>\n",
       "      <td>8.365145e-08</td>\n",
       "      <td>0.000309</td>\n",
       "      <td>0.000023</td>\n",
       "      <td>0.000208</td>\n",
       "      <td>1.199040e-05</td>\n",
       "      <td>0.000309</td>\n",
       "      <td>0.000023</td>\n",
       "      <td>...</td>\n",
       "      <td>8.554466</td>\n",
       "      <td>1.931456e-06</td>\n",
       "      <td>1.303469e-07</td>\n",
       "      <td>7.901944e-08</td>\n",
       "      <td>-2.435674e-08</td>\n",
       "      <td>1.658425e-08</td>\n",
       "      <td>-2.374887e-08</td>\n",
       "      <td>2</td>\n",
       "      <td>1.0</td>\n",
       "      <td>3.0</td>\n",
       "    </tr>\n",
       "    <tr>\n",
       "      <th>4</th>\n",
       "      <td>2.598173e-06</td>\n",
       "      <td>3.844502e-07</td>\n",
       "      <td>7.295256e-07</td>\n",
       "      <td>8.591499e-08</td>\n",
       "      <td>0.000414</td>\n",
       "      <td>0.000055</td>\n",
       "      <td>0.000239</td>\n",
       "      <td>2.488754e-05</td>\n",
       "      <td>0.000414</td>\n",
       "      <td>0.000055</td>\n",
       "      <td>...</td>\n",
       "      <td>12.657255</td>\n",
       "      <td>1.788939e-06</td>\n",
       "      <td>1.567520e-07</td>\n",
       "      <td>8.636927e-08</td>\n",
       "      <td>-6.577470e-09</td>\n",
       "      <td>3.864574e-08</td>\n",
       "      <td>-6.473210e-09</td>\n",
       "      <td>2</td>\n",
       "      <td>1.0</td>\n",
       "      <td>3.0</td>\n",
       "    </tr>\n",
       "    <tr>\n",
       "      <th>6</th>\n",
       "      <td>1.373817e-05</td>\n",
       "      <td>1.442301e-07</td>\n",
       "      <td>1.076811e-05</td>\n",
       "      <td>7.009606e-08</td>\n",
       "      <td>0.000212</td>\n",
       "      <td>0.000002</td>\n",
       "      <td>0.000167</td>\n",
       "      <td>9.832075e-07</td>\n",
       "      <td>0.000212</td>\n",
       "      <td>0.000002</td>\n",
       "      <td>...</td>\n",
       "      <td>1.271685</td>\n",
       "      <td>1.361863e-05</td>\n",
       "      <td>1.571615e-07</td>\n",
       "      <td>6.736965e-08</td>\n",
       "      <td>-1.959572e-08</td>\n",
       "      <td>6.275043e-08</td>\n",
       "      <td>-1.524920e-09</td>\n",
       "      <td>2</td>\n",
       "      <td>1.0</td>\n",
       "      <td>3.0</td>\n",
       "    </tr>\n",
       "    <tr>\n",
       "      <th>8</th>\n",
       "      <td>9.946495e-07</td>\n",
       "      <td>1.944150e-07</td>\n",
       "      <td>6.423352e-07</td>\n",
       "      <td>8.192783e-08</td>\n",
       "      <td>0.000250</td>\n",
       "      <td>0.000037</td>\n",
       "      <td>0.000172</td>\n",
       "      <td>1.891089e-05</td>\n",
       "      <td>0.000250</td>\n",
       "      <td>0.000037</td>\n",
       "      <td>...</td>\n",
       "      <td>16.877738</td>\n",
       "      <td>7.285380e-07</td>\n",
       "      <td>1.252937e-07</td>\n",
       "      <td>7.803743e-08</td>\n",
       "      <td>-2.675433e-08</td>\n",
       "      <td>7.523340e-09</td>\n",
       "      <td>-2.678730e-08</td>\n",
       "      <td>2</td>\n",
       "      <td>1.0</td>\n",
       "      <td>3.0</td>\n",
       "    </tr>\n",
       "    <tr>\n",
       "      <th>...</th>\n",
       "      <td>...</td>\n",
       "      <td>...</td>\n",
       "      <td>...</td>\n",
       "      <td>...</td>\n",
       "      <td>...</td>\n",
       "      <td>...</td>\n",
       "      <td>...</td>\n",
       "      <td>...</td>\n",
       "      <td>...</td>\n",
       "      <td>...</td>\n",
       "      <td>...</td>\n",
       "      <td>...</td>\n",
       "      <td>...</td>\n",
       "      <td>...</td>\n",
       "      <td>...</td>\n",
       "      <td>...</td>\n",
       "      <td>...</td>\n",
       "      <td>...</td>\n",
       "      <td>...</td>\n",
       "      <td>...</td>\n",
       "      <td>...</td>\n",
       "    </tr>\n",
       "    <tr>\n",
       "      <th>6708</th>\n",
       "      <td>2.871248e-06</td>\n",
       "      <td>4.774555e-07</td>\n",
       "      <td>5.882494e-07</td>\n",
       "      <td>8.218375e-08</td>\n",
       "      <td>0.000479</td>\n",
       "      <td>0.000073</td>\n",
       "      <td>0.000283</td>\n",
       "      <td>3.605268e-05</td>\n",
       "      <td>0.000479</td>\n",
       "      <td>0.000073</td>\n",
       "      <td>...</td>\n",
       "      <td>15.981069</td>\n",
       "      <td>1.726275e-06</td>\n",
       "      <td>1.719494e-07</td>\n",
       "      <td>8.744372e-08</td>\n",
       "      <td>-1.770911e-08</td>\n",
       "      <td>3.326524e-08</td>\n",
       "      <td>-1.728183e-08</td>\n",
       "      <td>2</td>\n",
       "      <td>1.0</td>\n",
       "      <td>3.0</td>\n",
       "    </tr>\n",
       "    <tr>\n",
       "      <th>6710</th>\n",
       "      <td>1.632200e-06</td>\n",
       "      <td>1.744027e-07</td>\n",
       "      <td>1.307465e-06</td>\n",
       "      <td>8.612252e-08</td>\n",
       "      <td>0.000207</td>\n",
       "      <td>0.000015</td>\n",
       "      <td>0.000167</td>\n",
       "      <td>1.001472e-05</td>\n",
       "      <td>0.000207</td>\n",
       "      <td>0.000015</td>\n",
       "      <td>...</td>\n",
       "      <td>14.035441</td>\n",
       "      <td>1.384411e-06</td>\n",
       "      <td>1.505156e-07</td>\n",
       "      <td>8.293304e-08</td>\n",
       "      <td>-4.031870e-08</td>\n",
       "      <td>1.746509e-08</td>\n",
       "      <td>-3.969632e-08</td>\n",
       "      <td>2</td>\n",
       "      <td>1.0</td>\n",
       "      <td>3.0</td>\n",
       "    </tr>\n",
       "    <tr>\n",
       "      <th>6712</th>\n",
       "      <td>4.238288e-06</td>\n",
       "      <td>2.055143e-07</td>\n",
       "      <td>3.143340e-06</td>\n",
       "      <td>9.663476e-08</td>\n",
       "      <td>0.000203</td>\n",
       "      <td>0.000006</td>\n",
       "      <td>0.000185</td>\n",
       "      <td>5.465987e-06</td>\n",
       "      <td>0.000203</td>\n",
       "      <td>0.000006</td>\n",
       "      <td>...</td>\n",
       "      <td>14.448209</td>\n",
       "      <td>3.969446e-06</td>\n",
       "      <td>1.892992e-07</td>\n",
       "      <td>9.132678e-08</td>\n",
       "      <td>-1.258046e-08</td>\n",
       "      <td>2.312150e-08</td>\n",
       "      <td>-1.247706e-08</td>\n",
       "      <td>2</td>\n",
       "      <td>1.0</td>\n",
       "      <td>3.0</td>\n",
       "    </tr>\n",
       "    <tr>\n",
       "      <th>6714</th>\n",
       "      <td>5.810244e-06</td>\n",
       "      <td>3.446668e-07</td>\n",
       "      <td>2.177925e-06</td>\n",
       "      <td>9.564250e-08</td>\n",
       "      <td>0.000404</td>\n",
       "      <td>0.000022</td>\n",
       "      <td>0.000184</td>\n",
       "      <td>6.457775e-06</td>\n",
       "      <td>0.000404</td>\n",
       "      <td>0.000022</td>\n",
       "      <td>...</td>\n",
       "      <td>3.726750</td>\n",
       "      <td>4.671508e-06</td>\n",
       "      <td>2.152728e-07</td>\n",
       "      <td>9.755728e-08</td>\n",
       "      <td>-6.453270e-09</td>\n",
       "      <td>6.726988e-08</td>\n",
       "      <td>-2.335470e-09</td>\n",
       "      <td>2</td>\n",
       "      <td>1.0</td>\n",
       "      <td>3.0</td>\n",
       "    </tr>\n",
       "    <tr>\n",
       "      <th>6716</th>\n",
       "      <td>2.222179e-06</td>\n",
       "      <td>1.891976e-07</td>\n",
       "      <td>1.809841e-06</td>\n",
       "      <td>9.493669e-08</td>\n",
       "      <td>0.000193</td>\n",
       "      <td>0.000011</td>\n",
       "      <td>0.000176</td>\n",
       "      <td>8.879307e-06</td>\n",
       "      <td>0.000193</td>\n",
       "      <td>0.000011</td>\n",
       "      <td>...</td>\n",
       "      <td>24.449253</td>\n",
       "      <td>2.107202e-06</td>\n",
       "      <td>1.501826e-07</td>\n",
       "      <td>9.104431e-08</td>\n",
       "      <td>-1.199970e-08</td>\n",
       "      <td>3.211200e-08</td>\n",
       "      <td>-1.223132e-08</td>\n",
       "      <td>2</td>\n",
       "      <td>1.0</td>\n",
       "      <td>3.0</td>\n",
       "    </tr>\n",
       "  </tbody>\n",
       "</table>\n",
       "<p>3341 rows × 35 columns</p>\n",
       "</div>"
      ],
      "text/plain": [
       "             Total_flux  E_Total_flux     Peak_flux   E_Peak_flux       Maj  \\\n",
       "Source_id                                                                     \n",
       "0          9.947102e-07  1.908813e-07  6.020551e-07  7.738053e-08  0.000241   \n",
       "2          2.980899e-06  2.660662e-07  1.288173e-06  8.365145e-08  0.000309   \n",
       "4          2.598173e-06  3.844502e-07  7.295256e-07  8.591499e-08  0.000414   \n",
       "6          1.373817e-05  1.442301e-07  1.076811e-05  7.009606e-08  0.000212   \n",
       "8          9.946495e-07  1.944150e-07  6.423352e-07  8.192783e-08  0.000250   \n",
       "...                 ...           ...           ...           ...       ...   \n",
       "6708       2.871248e-06  4.774555e-07  5.882494e-07  8.218375e-08  0.000479   \n",
       "6710       1.632200e-06  1.744027e-07  1.307465e-06  8.612252e-08  0.000207   \n",
       "6712       4.238288e-06  2.055143e-07  3.143340e-06  9.663476e-08  0.000203   \n",
       "6714       5.810244e-06  3.446668e-07  2.177925e-06  9.564250e-08  0.000404   \n",
       "6716       2.222179e-06  1.891976e-07  1.809841e-06  9.493669e-08  0.000193   \n",
       "\n",
       "              E_Maj       Min         E_Min  Maj_img_plane  E_Maj_img_plane  \\\n",
       "Source_id                                                                     \n",
       "0          0.000034  0.000191  2.245871e-05       0.000241         0.000034   \n",
       "2          0.000023  0.000208  1.199040e-05       0.000309         0.000023   \n",
       "4          0.000055  0.000239  2.488754e-05       0.000414         0.000055   \n",
       "6          0.000002  0.000167  9.832075e-07       0.000212         0.000002   \n",
       "8          0.000037  0.000172  1.891089e-05       0.000250         0.000037   \n",
       "...             ...       ...           ...            ...              ...   \n",
       "6708       0.000073  0.000283  3.605268e-05       0.000479         0.000073   \n",
       "6710       0.000015  0.000167  1.001472e-05       0.000207         0.000015   \n",
       "6712       0.000006  0.000185  5.465987e-06       0.000203         0.000006   \n",
       "6714       0.000022  0.000184  6.457775e-06       0.000404         0.000022   \n",
       "6716       0.000011  0.000176  8.879307e-06       0.000193         0.000011   \n",
       "\n",
       "           ...  E_DC_PA_img_plane  Isl_Total_flux  E_Isl_Total_flux  \\\n",
       "Source_id  ...                                                        \n",
       "0          ...          25.682843    5.253248e-07      8.197129e-08   \n",
       "2          ...           8.554466    1.931456e-06      1.303469e-07   \n",
       "4          ...          12.657255    1.788939e-06      1.567520e-07   \n",
       "6          ...           1.271685    1.361863e-05      1.571615e-07   \n",
       "8          ...          16.877738    7.285380e-07      1.252937e-07   \n",
       "...        ...                ...             ...               ...   \n",
       "6708       ...          15.981069    1.726275e-06      1.719494e-07   \n",
       "6710       ...          14.035441    1.384411e-06      1.505156e-07   \n",
       "6712       ...          14.448209    3.969446e-06      1.892992e-07   \n",
       "6714       ...           3.726750    4.671508e-06      2.152728e-07   \n",
       "6716       ...          24.449253    2.107202e-06      1.501826e-07   \n",
       "\n",
       "                Isl_rms      Isl_mean  Resid_Isl_rms  Resid_Isl_mean  S_Code  \\\n",
       "Source_id                                                                      \n",
       "0          7.220221e-08 -3.125654e-08   1.380381e-08   -3.114713e-08       2   \n",
       "2          7.901944e-08 -2.435674e-08   1.658425e-08   -2.374887e-08       2   \n",
       "4          8.636927e-08 -6.577470e-09   3.864574e-08   -6.473210e-09       2   \n",
       "6          6.736965e-08 -1.959572e-08   6.275043e-08   -1.524920e-09       2   \n",
       "8          7.803743e-08 -2.675433e-08   7.523340e-09   -2.678730e-08       2   \n",
       "...                 ...           ...            ...             ...     ...   \n",
       "6708       8.744372e-08 -1.770911e-08   3.326524e-08   -1.728183e-08       2   \n",
       "6710       8.293304e-08 -4.031870e-08   1.746509e-08   -3.969632e-08       2   \n",
       "6712       9.132678e-08 -1.258046e-08   2.312150e-08   -1.247706e-08       2   \n",
       "6714       9.755728e-08 -6.453270e-09   6.726988e-08   -2.335470e-09       2   \n",
       "6716       9.104431e-08 -1.199970e-08   3.211200e-08   -1.223132e-08       2   \n",
       "\n",
       "           n_gaussians  class_t  \n",
       "Source_id                        \n",
       "0                  1.0      3.0  \n",
       "2                  1.0      3.0  \n",
       "4                  1.0      3.0  \n",
       "6                  1.0      3.0  \n",
       "8                  1.0      3.0  \n",
       "...                ...      ...  \n",
       "6708               1.0      3.0  \n",
       "6710               1.0      3.0  \n",
       "6712               1.0      3.0  \n",
       "6714               1.0      3.0  \n",
       "6716               1.0      3.0  \n",
       "\n",
       "[3341 rows x 35 columns]"
      ]
     },
     "execution_count": 13,
     "metadata": {},
     "output_type": "execute_result"
    }
   ],
   "source": [
    "train_df"
   ]
  },
  {
   "cell_type": "markdown",
   "id": "540b6a9b-76d8-464c-a4f6-c180d4fa3b04",
   "metadata": {},
   "source": [
    "Class (output) frequency"
   ]
  },
  {
   "cell_type": "code",
   "execution_count": 16,
   "id": "8ca08d7d-da1f-4863-9e4a-8f808552fb57",
   "metadata": {},
   "outputs": [
    {
     "data": {
      "image/png": "[encoded data removed]",
      "text/plain": [
       "<Figure size 432x288 with 1 Axes>"
      ]
     },
     "metadata": {
      "needs_background": "light"
     },
     "output_type": "display_data"
    }
   ],
   "source": [
    "import seaborn as sns\n",
    "import matplotlib.pyplot as plt\n",
    "\n",
    "ax = sns.countplot(x=\"class_t\",data=train_df)\n",
    "for p in ax.patches:\n",
    "    ax.annotate('{:.1f}'.format(p.get_height()), (p.get_x()+0.25, p.get_height()+0.01))\n",
    "\n",
    "plt.show()"
   ]
  },
  {
   "cell_type": "markdown",
   "id": "c09750b1-0ecd-4274-961b-d9b6dbb9db8c",
   "metadata": {},
   "source": [
    "---"
   ]
  },
  {
   "cell_type": "markdown",
   "id": "8392b84b-0443-45cd-a407-3d03e3bd2d3c",
   "metadata": {},
   "source": [
    "#### Training"
   ]
  },
  {
   "cell_type": "code",
   "execution_count": 22,
   "id": "0b23ecd4-bbae-415c-bff2-22580d08c51f",
   "metadata": {},
   "outputs": [],
   "source": [
    "from sklearn.utils import shuffle\n",
    " \n",
    "train_df = shuffle(train_df)\n",
    "train_x = train_df.drop(['class_t'], axis = 1)\n",
    "train_y = train_df['class_t']"
   ]
  },
  {
   "cell_type": "code",
   "execution_count": 23,
   "id": "b83ae952-c664-4e84-83ff-d2fd74eb947a",
   "metadata": {},
   "outputs": [
    {
     "name": "stdout",
     "output_type": "stream",
     "text": [
      "train shape: (3341, 34)\n",
      "train shape: (3341,)\n"
     ]
    }
   ],
   "source": [
    "print(\"train shape: \"+ str(train_x.shape))\n",
    "print(\"train shape: \"+ str(train_y.shape))"
   ]
  },
  {
   "cell_type": "markdown",
   "id": "63ae282f-6be6-4757-bfa5-8850a4a91775",
   "metadata": {},
   "source": [
    "In this notebook, we will use Random Forest to classify the 3 classes above"
   ]
  },
  {
   "cell_type": "code",
   "execution_count": 26,
   "id": "31b838bb-f3e0-46d9-be8c-5a3b500dba7c",
   "metadata": {},
   "outputs": [],
   "source": [
    "from sklearn.ensemble import RandomForestClassifier\n",
    "from sklearn.metrics import classification_report # this package is used to assess the accuracy of the ML models"
   ]
  },
  {
   "cell_type": "code",
   "execution_count": 27,
   "id": "5d7c00b2-85d2-4d80-b5b5-b3b92a97571e",
   "metadata": {},
   "outputs": [
    {
     "data": {
      "text/html": [
       "<style>#sk-container-id-1 {color: black;background-color: white;}#sk-container-id-1 pre{padding: 0;}#sk-container-id-1 div.sk-toggleable {background-color: white;}#sk-container-id-1 label.sk-toggleable__label {cursor: pointer;display: block;width: 100%;margin-bottom: 0;padding: 0.3em;box-sizing: border-box;text-align: center;}#sk-container-id-1 label.sk-toggleable__label-arrow:before {content: \"▸\";float: left;margin-right: 0.25em;color: #696969;}#sk-container-id-1 label.sk-toggleable__label-arrow:hover:before {color: black;}#sk-container-id-1 div.sk-estimator:hover label.sk-toggleable__label-arrow:before {color: black;}#sk-container-id-1 div.sk-toggleable__content {max-height: 0;max-width: 0;overflow: hidden;text-align: left;background-color: #f0f8ff;}#sk-container-id-1 div.sk-toggleable__content pre {margin: 0.2em;color: black;border-radius: 0.25em;background-color: #f0f8ff;}#sk-container-id-1 input.sk-toggleable__control:checked~div.sk-toggleable__content {max-height: 200px;max-width: 100%;overflow: auto;}#sk-container-id-1 input.sk-toggleable__control:checked~label.sk-toggleable__label-arrow:before {content: \"▾\";}#sk-container-id-1 div.sk-estimator input.sk-toggleable__control:checked~label.sk-toggleable__label {background-color: #d4ebff;}#sk-container-id-1 div.sk-label input.sk-toggleable__control:checked~label.sk-toggleable__label {background-color: #d4ebff;}#sk-container-id-1 input.sk-hidden--visually {border: 0;clip: rect(1px 1px 1px 1px);clip: rect(1px, 1px, 1px, 1px);height: 1px;margin: -1px;overflow: hidden;padding: 0;position: absolute;width: 1px;}#sk-container-id-1 div.sk-estimator {font-family: monospace;background-color: #f0f8ff;border: 1px dotted black;border-radius: 0.25em;box-sizing: border-box;margin-bottom: 0.5em;}#sk-container-id-1 div.sk-estimator:hover {background-color: #d4ebff;}#sk-container-id-1 div.sk-parallel-item::after {content: \"\";width: 100%;border-bottom: 1px solid gray;flex-grow: 1;}#sk-container-id-1 div.sk-label:hover label.sk-toggleable__label {background-color: #d4ebff;}#sk-container-id-1 div.sk-serial::before {content: \"\";position: absolute;border-left: 1px solid gray;box-sizing: border-box;top: 0;bottom: 0;left: 50%;z-index: 0;}#sk-container-id-1 div.sk-serial {display: flex;flex-direction: column;align-items: center;background-color: white;padding-right: 0.2em;padding-left: 0.2em;position: relative;}#sk-container-id-1 div.sk-item {position: relative;z-index: 1;}#sk-container-id-1 div.sk-parallel {display: flex;align-items: stretch;justify-content: center;background-color: white;position: relative;}#sk-container-id-1 div.sk-item::before, #sk-container-id-1 div.sk-parallel-item::before {content: \"\";position: absolute;border-left: 1px solid gray;box-sizing: border-box;top: 0;bottom: 0;left: 50%;z-index: -1;}#sk-container-id-1 div.sk-parallel-item {display: flex;flex-direction: column;z-index: 1;position: relative;background-color: white;}#sk-container-id-1 div.sk-parallel-item:first-child::after {align-self: flex-end;width: 50%;}#sk-container-id-1 div.sk-parallel-item:last-child::after {align-self: flex-start;width: 50%;}#sk-container-id-1 div.sk-parallel-item:only-child::after {width: 0;}#sk-container-id-1 div.sk-dashed-wrapped {border: 1px dashed gray;margin: 0 0.4em 0.5em 0.4em;box-sizing: border-box;padding-bottom: 0.4em;background-color: white;}#sk-container-id-1 div.sk-label label {font-family: monospace;font-weight: bold;display: inline-block;line-height: 1.2em;}#sk-container-id-1 div.sk-label-container {text-align: center;}#sk-container-id-1 div.sk-container {/* jupyter's `normalize.less` sets `[hidden] { display: none; }` but bootstrap.min.css set `[hidden] { display: none !important; }` so we also need the `!important` here to be able to override the default hidden behavior on the sphinx rendered scikit-learn.org. See: https://github.com/scikit-learn/scikit-learn/issues/21755 */display: inline-block !important;position: relative;}#sk-container-id-1 div.sk-text-repr-fallback {display: none;}</style><div id=\"sk-container-id-1\" class=\"sk-top-container\"><div class=\"sk-text-repr-fallback\"><pre>RandomForestClassifier(random_state=0)</pre><b>In a Jupyter environment, please rerun this cell to show the HTML representation or trust the notebook. <br />On GitHub, the HTML representation is unable to render, please try loading this page with nbviewer.org.</b></div><div class=\"sk-container\" hidden><div class=\"sk-item\"><div class=\"sk-estimator sk-toggleable\"><input class=\"sk-toggleable__control sk-hidden--visually\" id=\"sk-estimator-id-1\" type=\"checkbox\" checked><label for=\"sk-estimator-id-1\" class=\"sk-toggleable__label sk-toggleable__label-arrow\">RandomForestClassifier</label><div class=\"sk-toggleable__content\"><pre>RandomForestClassifier(random_state=0)</pre></div></div></div></div></div>"
      ],
      "text/plain": [
       "RandomForestClassifier(random_state=0)"
      ]
     },
     "execution_count": 27,
     "metadata": {},
     "output_type": "execute_result"
    }
   ],
   "source": [
    "forest = RandomForestClassifier(random_state=0)\n",
    "forest.fit(train_x, train_y)"
   ]
  },
  {
   "cell_type": "markdown",
   "id": "98bf8c78-c947-4c23-9e48-97e4dd4a7f5c",
   "metadata": {},
   "source": [
    "We can try and assess the model aginst the training data"
   ]
  },
  {
   "cell_type": "code",
   "execution_count": 28,
   "id": "7a093405-1ecf-4b4d-9632-19241faf25d9",
   "metadata": {},
   "outputs": [],
   "source": [
    "y_pred = forest.predict(train_x)\n"
   ]
  },
  {
   "cell_type": "code",
   "execution_count": 32,
   "id": "1314664b-0245-4a90-97cc-47fe1b3f8d11",
   "metadata": {},
   "outputs": [
    {
     "name": "stdout",
     "output_type": "stream",
     "text": [
      "              precision    recall  f1-score   support\n",
      "\n",
      "         1.0       1.00      1.00      1.00        20\n",
      "         2.0       1.00      1.00      1.00        62\n",
      "         3.0       1.00      1.00      1.00      3259\n",
      "\n",
      "    accuracy                           1.00      3341\n",
      "   macro avg       1.00      1.00      1.00      3341\n",
      "weighted avg       1.00      1.00      1.00      3341\n",
      "\n"
     ]
    }
   ],
   "source": [
    "print(classification_report (train_y, y_pred))"
   ]
  },
  {
   "cell_type": "markdown",
   "id": "97025168-497d-42f6-a469-c4cc782dd7fb",
   "metadata": {},
   "source": [
    "The score is 100% correct, and that to be expected since the trained model have seen the data pefore, now let us test it aginst the full cataluge (test set)"
   ]
  },
  {
   "cell_type": "markdown",
   "id": "6a97844f-64ad-4868-8c7a-4e584f4dbb41",
   "metadata": {},
   "source": [
    "### Testing"
   ]
  },
  {
   "cell_type": "code",
   "execution_count": null,
   "id": "7593ad44-fdb2-45ac-8f3c-308ae2517212",
   "metadata": {},
   "outputs": [],
   "source": []
  }
 ],
 "metadata": {
  "kernelspec": {
   "display_name": "dc1_ker2",
   "language": "python",
   "name": "dc1_ker2"
  },
  "language_info": {
   "codemirror_mode": {
    "name": "ipython",
    "version": 3
   },
   "file_extension": ".py",
   "mimetype": "text/x-python",
   "name": "python",
   "nbconvert_exporter": "python",
   "pygments_lexer": "ipython3",
   "version": "3.8.10"
  }
 },
 "nbformat": 4,
 "nbformat_minor": 5
}
