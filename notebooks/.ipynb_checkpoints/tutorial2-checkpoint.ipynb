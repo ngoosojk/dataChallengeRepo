{
 "cells": [
  {
   "cell_type": "markdown",
   "id": "049ae877-9f02-4272-b9bc-0d2ce1804770",
   "metadata": {},
   "source": [
    "# Tutorial 2: Source Classification\n",
    "https://astronomers.skatelescope.org/ska-science-data-challenge-1/"
   ]
  },
  {
   "cell_type": "markdown",
   "id": "bd8b15da-5a20-4900-92b5-cda77853b31c",
   "metadata": {},
   "source": [
    "The last tutorial gave us two data frames, one used to train the machine learning model and the other to test the trained model. This notebook will go through the following:\n",
    "\n",
    "    - Data exploration\n",
    "    - Data pre_processing\n",
    "    - Training\n",
    "    - Testing"
   ]
  },
  {
   "cell_type": "markdown",
   "id": "3681c4de-a8c2-43d2-b399-0d32eddfe888",
   "metadata": {},
   "source": [
    "For this tutorial, we have three kinds of astronomical sources, namely star-forming galaxies (`SFGs`), steep-spectrum (`SS`) AGN, and flat-spectrum (`FS`) AGN. The primary purpose is to use features from Pydsf to classify astronomical sources."
   ]
  },
  {
   "cell_type": "markdown",
   "id": "0dcdae23-9c0e-4b97-9eac-d09ce661950a",
   "metadata": {},
   "source": [
    "---"
   ]
  },
  {
   "cell_type": "markdown",
   "id": "19c3fc23-f119-40af-81f2-d82d4c71d33f",
   "metadata": {},
   "source": [
    "First, let us recall the data from the previous notebook"
   ]
  },
  {
   "cell_type": "code",
   "execution_count": null,
   "id": "516428d1-9faa-40bc-864d-f4efed81cf3c",
   "metadata": {},
   "outputs": [],
   "source": [
    "%store -r sources_training\n",
    "%store -r sources_full"
   ]
  },
  {
   "cell_type": "markdown",
   "id": "d91cbdcb-6b85-4bb4-abbf-19241a4df32c",
   "metadata": {},
   "source": [
    "#### Examining data"
   ]
  },
  {
   "cell_type": "markdown",
   "id": "5cdc4567-6a67-4a57-81af-25ba655895c9",
   "metadata": {},
   "source": [
    "First let's take a look at the raw data"
   ]
  },
  {
   "cell_type": "code",
   "execution_count": null,
   "id": "44b9830f-6f13-4c68-acae-d6ab0268346d",
   "metadata": {},
   "outputs": [],
   "source": [
    "sources_training[1400]"
   ]
  },
  {
   "cell_type": "markdown",
   "id": "d737e4b4-bfc9-47b7-9f5d-51678591ab5e",
   "metadata": {},
   "source": [
    "We may verify the shape of the data frame:"
   ]
  },
  {
   "cell_type": "code",
   "execution_count": null,
   "id": "ee83487f-573e-45bf-b8a4-7cda4a7bcf00",
   "metadata": {},
   "outputs": [],
   "source": [
    "print(sources_training[1400].shape)"
   ]
  },
  {
   "cell_type": "markdown",
   "id": "7faafe2c-570a-4a4b-9797-50b42b364b07",
   "metadata": {},
   "source": [
    "The data frame above, in its current state, is not suited to be used for ML for the following reasons: \n",
    "   * Some columns need to be excluded, like Source_ID,...\n",
    "   * Perform cross matching aginst the truth catalog and get the matched output (meaning get all actual sources where Pydsf correctly identified sources.\n",
    "   * Include the matched output from Pydsf (ground truth) to perform supervised learning.\n",
    "   \n",
    "   In conclusion, we will need to perform some pre-processing on the data frame provided by Pydsf"
   ]
  },
  {
   "cell_type": "markdown",
   "id": "dd11ea9b-eb77-41ac-8916-d849d5ac738a",
   "metadata": {},
   "source": [
    "---"
   ]
  },
  {
   "cell_type": "markdown",
   "id": "10c9d59c-d074-4ec7-8e68-398b69c676bb",
   "metadata": {},
   "source": [
    "#### Data pre-processing"
   ]
  },
  {
   "cell_type": "markdown",
   "id": "c9a1125e-fb02-40bc-a672-425c9c18af5d",
   "metadata": {},
   "source": [
    "Importing some libraries:"
   ]
  },
  {
   "cell_type": "code",
   "execution_count": null,
   "id": "126f956a-08d4-48fd-bde1-753459e85aa1",
   "metadata": {},
   "outputs": [],
   "source": [
    "from source.utils.bdsf_utils import  load_truth_df, cat_df_from_srl_df \n",
    "from source.path import train_truth_path, full_truth_path, write_df_to_disk, submission_df_path\n",
    "from source.utils.columns import SRL_CAT_COLS, SRL_COLS_TO_DROP, SRL_NUM_COLS\n",
    "from source.utils.classification import SKLClassification"
   ]
  },
  {
   "cell_type": "code",
   "execution_count": null,
   "id": "eb2fb7e4-2435-4194-9af7-01336276d0d3",
   "metadata": {},
   "outputs": [],
   "source": [
    "model_pre = SKLClassification()\n",
    "train_truth_cat_df = load_truth_df(train_truth_path(1400), skiprows=18) # the tuth cataluge for the training data\n",
    "\n",
    "\"\"\"\n",
    "Args:\n",
    "    srl_df (:obj:`pandas.DataFrame`): Source list.\n",
    "    truth_cat_df (:obj:`pandas.DataFrame`): Truth catalogue.\n",
    "    regressand_col: (`str`): Regressand column name (output).\n",
    "    freq: (`int`): Frequency band (MHz).\n",
    "Returns:\n",
    "    srl_df (`str`): Crossmatched source list DataFrame used for training.\n",
    "\"\"\"\n",
    "train_df = model_pre.pre_process(sources_training[1400], train_truth_cat_df, regressand_col=\"class_t\", freq=1400)"
   ]
  },
  {
   "cell_type": "markdown",
   "id": "94c959d1-b1d4-4c37-beb6-7a6dcbf210f3",
   "metadata": {},
   "source": [
    "---"
   ]
  },
  {
   "cell_type": "markdown",
   "id": "a930af0c-ea8e-4072-9b4e-1c6fb3067b22",
   "metadata": {},
   "source": [
    "#### Examining the traning data"
   ]
  },
  {
   "cell_type": "code",
   "execution_count": null,
   "id": "0e5f5976-dd38-4adb-a806-3acf0c52042a",
   "metadata": {},
   "outputs": [],
   "source": [
    "train_df"
   ]
  },
  {
   "cell_type": "markdown",
   "id": "540b6a9b-76d8-464c-a4f6-c180d4fa3b04",
   "metadata": {},
   "source": [
    "Now let us check the frequencies of the astronomical sources."
   ]
  },
  {
   "cell_type": "code",
   "execution_count": null,
   "id": "8ca08d7d-da1f-4863-9e4a-8f808552fb57",
   "metadata": {},
   "outputs": [],
   "source": [
    "import seaborn as sns\n",
    "import matplotlib.pyplot as plt\n",
    "\n",
    "ax = sns.countplot(x=\"class_t\",data=train_df)\n",
    "for p in ax.patches:\n",
    "    ax.annotate('{:.1f}'.format(p.get_height()), (p.get_x()+0.25, p.get_height()+0.01))\n",
    "\n",
    "plt.show()"
   ]
  },
  {
   "cell_type": "markdown",
   "id": "0ae4b3e7-46f4-4b4b-b47a-8d5e75575282",
   "metadata": {},
   "source": [
    "Where:\n",
    "   - Class 1 ->   SS-AGN\n",
    "   - Class 2 ->   FS-AGN\n",
    "   - Class 3 ->   SFG"
   ]
  },
  {
   "cell_type": "markdown",
   "id": "4797d552-26cc-436a-a0c5-be606168ad92",
   "metadata": {},
   "source": [
    "I have been asking myself why there is a majority of SFGs in the simulated data. If you do not know, ask the nearest postdoc you see."
   ]
  },
  {
   "cell_type": "markdown",
   "id": "c31bb3c5-a84c-484d-9848-1343a45078a3",
   "metadata": {},
   "source": [
    "**Exercise 1:** Clean and visualise the other 2 frequencies \n",
    "<br>"
   ]
  },
  {
   "cell_type": "markdown",
   "id": "c09750b1-0ecd-4274-961b-d9b6dbb9db8c",
   "metadata": {},
   "source": [
    "---"
   ]
  },
  {
   "cell_type": "markdown",
   "id": "8392b84b-0443-45cd-a407-3d03e3bd2d3c",
   "metadata": {},
   "source": [
    "### Training"
   ]
  },
  {
   "cell_type": "markdown",
   "id": "1733fbc1-30dd-4ebb-acd7-6c24584bbed1",
   "metadata": {},
   "source": [
    "First, let us separate the data frame into input and output"
   ]
  },
  {
   "cell_type": "code",
   "execution_count": null,
   "id": "0b23ecd4-bbae-415c-bff2-22580d08c51f",
   "metadata": {},
   "outputs": [],
   "source": [
    "from sklearn.utils import shuffle\n",
    " \n",
    "train_df = shuffle(train_df) # we are shuffling the data.\n",
    "train_x = train_df.drop(['class_t'], axis = 1) # input data\n",
    "train_y = train_df['class_t'] # output data"
   ]
  },
  {
   "cell_type": "code",
   "execution_count": null,
   "id": "b83ae952-c664-4e84-83ff-d2fd74eb947a",
   "metadata": {},
   "outputs": [],
   "source": [
    "print(\"Input dim \"+ str(train_x.shape)) # input\n",
    "print(\"output dim: \"+ str(train_y.shape)) # output"
   ]
  },
  {
   "cell_type": "markdown",
   "id": "63ae282f-6be6-4757-bfa5-8850a4a91775",
   "metadata": {},
   "source": [
    "In this notebook, we will use Random Forest to classify the 3 classes above"
   ]
  },
  {
   "cell_type": "code",
   "execution_count": null,
   "id": "31b838bb-f3e0-46d9-be8c-5a3b500dba7c",
   "metadata": {
    "tags": []
   },
   "outputs": [],
   "source": [
    "from sklearn.ensemble import RandomForestClassifier # a ML model\n",
    "from sklearn.metrics import classification_report # this package is used to assess the accuracy of the ML models\n"
   ]
  },
  {
   "cell_type": "code",
   "execution_count": null,
   "id": "5d7c00b2-85d2-4d80-b5b5-b3b92a97571e",
   "metadata": {},
   "outputs": [],
   "source": [
    "forest = RandomForestClassifier(random_state=0)\n",
    "forest.fit(train_x, train_y) # train the ML model on the training data"
   ]
  },
  {
   "cell_type": "markdown",
   "id": "98bf8c78-c947-4c23-9e48-97e4dd4a7f5c",
   "metadata": {},
   "source": [
    "We can try and assess the model aginst the training data"
   ]
  },
  {
   "cell_type": "code",
   "execution_count": null,
   "id": "7a093405-1ecf-4b4d-9632-19241faf25d9",
   "metadata": {},
   "outputs": [],
   "source": [
    "y_pred = forest.predict(train_x)"
   ]
  },
  {
   "cell_type": "code",
   "execution_count": null,
   "id": "1314664b-0245-4a90-97cc-47fe1b3f8d11",
   "metadata": {},
   "outputs": [],
   "source": [
    "print(classification_report (train_y, y_pred))"
   ]
  },
  {
   "cell_type": "markdown",
   "id": "97025168-497d-42f6-a469-c4cc782dd7fb",
   "metadata": {},
   "source": [
    "The score is 100% accurate, which is expected since the trained model has seen the data before. Now let us test it against the whole catalog (test set) without the training data."
   ]
  },
  {
   "cell_type": "markdown",
   "id": "ba828cbe-ea41-4cfd-aeb5-800bc12c6b28",
   "metadata": {},
   "source": [
    "**Exercise 2:** train the other 2 frequencies on their training data \n",
    "<br>"
   ]
  },
  {
   "cell_type": "markdown",
   "id": "1fa5387f-4792-4806-bbb4-b6c279da255c",
   "metadata": {},
   "source": [
    "---"
   ]
  },
  {
   "cell_type": "markdown",
   "id": "6a97844f-64ad-4868-8c7a-4e584f4dbb41",
   "metadata": {},
   "source": [
    "### Testing"
   ]
  },
  {
   "cell_type": "code",
   "execution_count": null,
   "id": "7593ad44-fdb2-45ac-8f3c-308ae2517212",
   "metadata": {},
   "outputs": [],
   "source": [
    "sources_full[1400][\"class\"] = model_pre.test(forest, sources_full[1400]) # add the predicted output to the source df"
   ]
  },
  {
   "cell_type": "code",
   "execution_count": null,
   "id": "d88b035d-9b71-4f35-856d-63be1bd22149",
   "metadata": {},
   "outputs": [],
   "source": [
    "sources_full[1400]"
   ]
  },
  {
   "cell_type": "code",
   "execution_count": null,
   "id": "5c19cd36-6ca7-4e4e-9448-1d6c749286a8",
   "metadata": {},
   "outputs": [],
   "source": [
    "from source.path import full_truth_path, write_df_to_disk, submission_df_path, score_report_path, image_path\n",
    "from ska_sdc import Sdc1Scorer\n",
    "import os\n",
    "from pathlib import Path\n"
   ]
  },
  {
   "cell_type": "code",
   "execution_count": null,
   "id": "be384576-0157-449f-846a-c40b568edfaf",
   "metadata": {},
   "outputs": [],
   "source": [
    "# 6) Create final catalogues and calculate scores\n",
    "print(\"\\nStep 6: Final score\")\n",
    "for freq, source_df in sources_full.items():\n",
    "    # Assemble submission and truth catalogues for scoring\n",
    "    sub_cat_df = cat_df_from_srl_df(source_df, guess_class=False)\n",
    "    truth_cat_df = load_truth_df(full_truth_path(freq), skiprows=0)\n",
    "    \n",
    "    # (Optional) Write final submission catalogue to disk\n",
    "    write_df_to_disk(sub_cat_df, submission_df_path(freq))\n",
    "\n",
    "    # Calculate score\n",
    "    scorer = Sdc1Scorer(sub_cat_df, truth_cat_df, freq)\n",
    "    score = scorer.run(mode=0, train=False, detail=True) # train=False -> means that we are removing the training data from the evaluation, so there is no data leakage\n",
    "\n",
    "    # Write short score report:\n",
    "    score_path = score_report_path(freq)\n",
    "    score_dir = os.path.dirname(score_path)\n",
    "    Path(score_dir).mkdir(parents=True, exist_ok=True)\n",
    "\n",
    "    with open(score_path, \"w+\") as report:\n",
    "        report.write(\n",
    "            \"Image: {}, frequency: {} MHz\\n\".format(image_path(freq), freq)\n",
    "        )\n",
    "        report.write(\"Score was {}\\n\".format(score.value))\n",
    "        report.write(\"Number of detections {}\\n\".format(score.n_det))\n",
    "        report.write(\"Number of matches {}\\n\".format(score.n_match))\n",
    "        report.write(\n",
    "            \"Number of matches too far from truth {}\\n\".format(score.n_bad)\n",
    "        )\n",
    "        report.write(\"Number of false detections {}\\n\".format(score.n_false))\n",
    "        report.write(\"Score for all matches {}\\n\".format(score.score_det))\n",
    "        report.write(\"Accuracy percentage {}\\n\".format(score.acc_pc))\n",
    "        report.write(\"Classification report: \\n\")\n",
    "        report.write(\n",
    "            classification_report(\n",
    "                score.match_df[\"class_t\"],\n",
    "                score.match_df[\"class\"],\n",
    "                labels=[1, 2, 3],\n",
    "                target_names=[\"1 (SS-AGN)\", \"2 (FS-AGN)\", \"3 (SFG)\"],\n",
    "                digits=4,\n",
    "            )\n",
    "        )\n",
    "\n",
    "print(\"\\nComplete\")"
   ]
  },
  {
   "cell_type": "markdown",
   "id": "0869e921-2ce0-4409-8f7b-eae952b03ddf",
   "metadata": {},
   "source": [
    "Your results can be found in:\n",
    "`data/score/1400mhz_score.txt`"
   ]
  },
  {
   "cell_type": "markdown",
   "id": "e5d59812-6e91-42da-b3f3-0622b3083f0b",
   "metadata": {},
   "source": [
    "---"
   ]
  },
  {
   "cell_type": "markdown",
   "id": "fab04393-5c31-47b4-bf9a-a34078407bb3",
   "metadata": {},
   "source": [
    "## Now it is your turn\n",
    " - on the other two frequencies, show us the following:\n",
    "     - The images before and after clipping\n",
    "     - Before and after PB correction\n",
    "     - training image\n",
    "- on all three training data frames ( from the three frequencies):\n",
    "     - Try to improve/add to the pipeline we introduced on the training data. Maybe you can try [feature reduction](https://scikit-learn.org/stable/modules/feature_selection.html).\n",
    "     - Try more [ML models](https://scikit-learn.org/stable/supervised_learning.html)\n",
    "- Make a comparison between all three frequencies \n",
    "- Present the results"
   ]
  },
  {
   "cell_type": "code",
   "execution_count": null,
   "id": "680f948e-e3f9-4372-a6f1-385a846e39ca",
   "metadata": {},
   "outputs": [],
   "source": []
  }
 ],
 "metadata": {
  "kernelspec": {
   "display_name": "dc1_ker2",
   "language": "python",
   "name": "dc1_ker2"
  },
  "language_info": {
   "codemirror_mode": {
    "name": "ipython",
    "version": 3
   },
   "file_extension": ".py",
   "mimetype": "text/x-python",
   "name": "python",
   "nbconvert_exporter": "python",
   "pygments_lexer": "ipython3",
   "version": "3.8.10"
  }
 },
 "nbformat": 4,
 "nbformat_minor": 5
}
